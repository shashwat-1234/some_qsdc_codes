{
 "cells": [
  {
   "cell_type": "markdown",
   "metadata": {},
   "source": [
    "### Updated on 08/05/2021\n",
    "<br>\n",
    "This Notebook implements the 3 party Quantum Conference Protocol"
   ]
  },
  {
   "cell_type": "code",
   "execution_count": 1,
   "metadata": {},
   "outputs": [],
   "source": [
    "from qiskit import *\n",
    "from qiskit.compiler import transpile, assemble\n",
    "from qiskit.tools.jupyter import *\n",
    "from qiskit.visualization import *\n",
    "import matplotlib.pyplot as plotter\n",
    "import numpy as np\n",
    "from IPython.display import display, Math, Latex, Image\n",
    "%matplotlib inline"
   ]
  },
  {
   "cell_type": "markdown",
   "metadata": {},
   "source": [
    "#### Step 1: Generation of Message and preparation or random permutation\n",
    "<br>\n",
    "1. Here qa, qb, qc are the random of permutations of Qubits of Alice, Bob and Charlie respectively\n",
    "<br>2. delta_m is the number used for checking the error in the channel "
   ]
  },
  {
   "cell_type": "code",
   "execution_count": 2,
   "metadata": {},
   "outputs": [],
   "source": [
    "num_bits = 32\n",
    "\n",
    "key_ini = np.random.randint(2, size = num_bits)\n",
    "\n",
    "alice_mess_ini = np.random.randint(2, size = num_bits)\n",
    "bob_mess_ini = np.random.randint(2, size = num_bits)\n",
    "charlie_mess_ini = np.random.randint(2, size = num_bits)\n",
    "\n",
    "qa_ini = np.random.choice(num_bits, size = num_bits, replace = False)\n",
    "qb_ini = np.random.choice(num_bits, size = num_bits, replace = False)\n",
    "qc_ini = np.random.choice(num_bits, size = num_bits, replace = False)"
   ]
  },
  {
   "cell_type": "code",
   "execution_count": 3,
   "metadata": {},
   "outputs": [],
   "source": [
    "delta_m = 4\n",
    "\n",
    "common_idx = np.sort(np.random.choice(num_bits, size = delta_m, replace = False))"
   ]
  },
  {
   "cell_type": "code",
   "execution_count": 4,
   "metadata": {},
   "outputs": [],
   "source": [
    "def encode_message(key_bit, message_bit, qubit, circuit):\n",
    "    if message_bit == 1:\n",
    "        circuit.x(qubit)\n",
    "    if key_bit == 1:\n",
    "        circuit.h(qubit)\n",
    "    return circuit\n",
    "\n",
    "def run_circuit(qc, shot):\n",
    "    backend = Aer.get_backend('qasm_simulator') # we choose the simulator as our backend\n",
    "    result = execute(qc, backend, shots = shot).result() # we run the simulation\n",
    "    counts = result.get_counts() # we get the counts\n",
    "    return counts\n",
    "\n",
    "def count_to_str(counts):\n",
    "    r = counts.items()\n",
    "    for res, shots in r:\n",
    "        result = str(res)\n",
    "    return result"
   ]
  },
  {
   "cell_type": "markdown",
   "metadata": {},
   "source": [
    "#### Checking of Error in the Channel "
   ]
  },
  {
   "cell_type": "code",
   "execution_count": 5,
   "metadata": {},
   "outputs": [],
   "source": [
    "result = []\n",
    "\n",
    "for i in range(delta_m):\n",
    "    \n",
    "    a = QuantumRegister(1)\n",
    "    b = QuantumRegister(1)\n",
    "    c = QuantumRegister(1)\n",
    "    ufp = ClassicalRegister(3)\n",
    "    circuit = QuantumCircuit(a, b, c, ufp)\n",
    "    \n",
    "    idx = common_idx[i]\n",
    "    #print(idx)\n",
    "    a_mess = alice_mess_ini[idx]\n",
    "    b_mess = bob_mess_ini[idx]\n",
    "    c_mess = charlie_mess_ini[idx]\n",
    "    k = key_ini[idx]\n",
    "    #print(a_mess, b_mess, c_mess, k)\n",
    "    encode_message(k, a_mess, a[0], circuit)\n",
    "    encode_message(k, b_mess, b[0], circuit)\n",
    "    encode_message(k, c_mess, c[0], circuit)\n",
    "    \n",
    "    circuit.barrier()\n",
    "    \n",
    "    #Eaves Dropper could be introduced here so to check the exact security of the protocol with the threshold\n",
    "    \n",
    "    circuit.barrier()\n",
    "    \n",
    "    if(k == 1):\n",
    "        circuit.h([a[0], b[0], c[0]])\n",
    "    \n",
    "    circuit.measure([a[0], b[0], c[0]], ufp)\n",
    "    \n",
    "    counts = run_circuit(circuit, 1)\n",
    "    mess = count_to_str(counts)\n",
    "    mess = mess[::-1]\n",
    "    \n",
    "    for j in range(len(mess)):\n",
    "        result.append((int)(mess[j]))\n",
    "\n",
    "result = np.array(result)"
   ]
  },
  {
   "cell_type": "code",
   "execution_count": 6,
   "metadata": {},
   "outputs": [
    {
     "name": "stdout",
     "output_type": "stream",
     "text": [
      "Security Checking Passed !\n"
     ]
    }
   ],
   "source": [
    "flag = 1\n",
    "\n",
    "for i in range(delta_m):\n",
    "    idx = common_idx[i]\n",
    "    a = result[3*i]\n",
    "    b = result[3*i+1]\n",
    "    c = result[3*i+2]\n",
    "    \n",
    "    if a != alice_mess_ini[idx] or b != bob_mess_ini[idx] or c != charlie_mess_ini[idx]:\n",
    "        flag = 0\n",
    "\n",
    "if flag == 0:\n",
    "    print(\"Security Checking Failed !\")\n",
    "else:\n",
    "    print(\"Security Checking Passed !\")"
   ]
  },
  {
   "cell_type": "markdown",
   "metadata": {},
   "source": [
    "#### Removing the indexes which were used to check the security"
   ]
  },
  {
   "cell_type": "code",
   "execution_count": 7,
   "metadata": {},
   "outputs": [],
   "source": [
    "key = []\n",
    "alice_mess = []\n",
    "bob_mess = []\n",
    "charlie_mess = []\n",
    "\n",
    "for i in range(num_bits):\n",
    "    if i not in common_idx:\n",
    "        key.append(key_ini[i])\n",
    "        alice_mess.append(alice_mess_ini[i])\n",
    "        bob_mess.append(bob_mess_ini[i])\n",
    "        charlie_mess.append(charlie_mess_ini[i])\n",
    "        \n",
    "key = np.array(key)\n",
    "alice_mess = np.array(alice_mess)\n",
    "bob_mess = np.array(bob_mess)\n",
    "charlie_mess = np.array(charlie_mess)\n",
    "new_num_bits = len(charlie_mess)"
   ]
  },
  {
   "cell_type": "code",
   "execution_count": 8,
   "metadata": {},
   "outputs": [],
   "source": [
    "final_result = []\n",
    "\n",
    "for i in range(new_num_bits):\n",
    "    \n",
    "    a = QuantumRegister(1)\n",
    "    b = QuantumRegister(1)\n",
    "    c = QuantumRegister(1)\n",
    "    ufp = ClassicalRegister(3)\n",
    "    circuit = QuantumCircuit(a, b, c, ufp)\n",
    "    \n",
    "    a_mess = alice_mess[i]\n",
    "    b_mess = bob_mess[i]\n",
    "    c_mess = charlie_mess[i]\n",
    "    k = key[i]\n",
    "    \n",
    "    encode_message(k, a_mess, a[0], circuit)\n",
    "    encode_message(k, b_mess, b[0], circuit)\n",
    "    encode_message(k, c_mess, c[0], circuit)\n",
    "    \n",
    "    circuit.barrier()\n",
    "    \n",
    "    circuit.cx(a[0], b[0])\n",
    "    circuit.cx(a[0], c[0])\n",
    "    circuit.h(a[0])\n",
    "    \n",
    "    circuit.barrier()\n",
    "    \n",
    "    circuit.measure([a[0], b[0], c[0]], ufp)\n",
    "    \n",
    "    counts = run_circuit(circuit, 1)\n",
    "    mess = count_to_str(counts)\n",
    "    mess = mess[::-1]\n",
    "    \n",
    "    for j in range(len(mess)):\n",
    "        final_result.append((int)(mess[j]))\n",
    "\n",
    "final_result = np.array(final_result)"
   ]
  },
  {
   "cell_type": "markdown",
   "metadata": {},
   "source": [
    "#### Decryption of the Message\n",
    "<br>Now to decrypt the messages we have to look at the key bits. <br>\n",
    "1. If key is 0 then one person directly knows the messages of other two \n",
    "<br>\n",
    "2. If the key is 1 then we have to apply the method of Xor computation"
   ]
  },
  {
   "cell_type": "code",
   "execution_count": 9,
   "metadata": {},
   "outputs": [],
   "source": [
    "dec_a_for_b = np.empty(shape = new_num_bits)\n",
    "dec_c_for_b = np.empty(shape = new_num_bits)\n",
    "\n",
    "dec_a_for_c = np.empty(shape = new_num_bits)\n",
    "dec_b_for_c = np.empty(shape = new_num_bits)\n",
    "\n",
    "dec_b_for_a = np.empty(shape = new_num_bits)\n",
    "dec_c_for_a = np.empty(shape = new_num_bits)\n",
    "\n",
    "one_idx = []\n",
    "alice_xor = []\n",
    "bob_xor = []\n",
    "charlie_xor = []\n",
    "\n",
    "for i in range(new_num_bits):\n",
    "    \n",
    "    if key[i] == 0:\n",
    "        dec_a_for_b[i] = dec_a_for_c[i] = final_result[3*i]\n",
    "        dec_b_for_a[i] = dec_b_for_c[i] = final_result[3*i + 1]\n",
    "        dec_c_for_a[i] = dec_c_for_b[i] = final_result[3*i + 2]\n",
    "    else:\n",
    "        one_idx.append(i)\n",
    "        #Here where the key bit is 1 the XOR value of other two are stored \n",
    "        \n",
    "        if alice_mess[i] == final_result[3*i]:\n",
    "            alice_xor.append(0)\n",
    "        else:\n",
    "            alice_xor.append(1) \n",
    "        \n",
    "        if bob_mess[i] == final_result[3*i+1]:\n",
    "            bob_xor.append(0)\n",
    "        else:\n",
    "            bob_xor.append(1) \n",
    "        \n",
    "        if charlie_mess[i] == final_result[3*i+2]:\n",
    "            charlie_xor.append(0)\n",
    "        else:\n",
    "            charlie_xor.append(1) "
   ]
  },
  {
   "cell_type": "markdown",
   "metadata": {},
   "source": [
    "Now the steps for XOR computation will be done first new ordered set of qubits are prepared and then some decoy photons are added <br>\n",
    "Now here we could have applied random permutations but it will of no use because at last it is only going to get un-permuted. <br>"
   ]
  },
  {
   "cell_type": "code",
   "execution_count": 10,
   "metadata": {},
   "outputs": [],
   "source": [
    "num_decoy = 5\n",
    "\n",
    "decoy_a_base = np.random.randint(2, size = num_decoy)\n",
    "decoy_a_bit = np.random.randint(2, size = num_decoy)\n",
    "\n",
    "decoy_b_base = np.random.randint(2, size = num_decoy)\n",
    "decoy_b_bit = np.random.randint(2, size = num_decoy)\n",
    "\n",
    "decoy_c_base = np.random.randint(2, size = num_decoy)\n",
    "decoy_c_bit = np.random.randint(2, size = num_decoy)\n",
    "\n",
    "num_xor_total = num_decoy + len(one_idx)\n",
    "\n",
    "flag = 1"
   ]
  },
  {
   "cell_type": "markdown",
   "metadata": {},
   "source": [
    "Now for a channel first the security for the decoy bit will be checked then only a person will proceed with others qubit for message decoding <br>\n",
    "Now here we are considering Alice sends her qubits to Bob, Bob sends his to Charlie and Charlie back to Alice \n",
    "<br> Here flag is used to just to keep a check if anytime security is breached or not "
   ]
  },
  {
   "cell_type": "code",
   "execution_count": 11,
   "metadata": {},
   "outputs": [
    {
     "name": "stdout",
     "output_type": "stream",
     "text": [
      "Security Checking for Alice to Bob Channel Passed !\n"
     ]
    }
   ],
   "source": [
    "# First the channel correctness is checked by Bob for Alice Qubits \n",
    "\n",
    "decoded_security = []\n",
    "\n",
    "for i in range(num_decoy):\n",
    "    \n",
    "    a = QuantumRegister(1)\n",
    "    meas = ClassicalRegister(1)\n",
    "    circuit = QuantumCircuit(a, meas)\n",
    "    \n",
    "    if decoy_a_bit[i] == 1:\n",
    "        circuit.x(a[0])\n",
    "    if decoy_a_base[i] == 1:\n",
    "        circuit.h(a[0])\n",
    "    \n",
    "    circuit.barrier()\n",
    "    \n",
    "    #Eaves Dropper possible actions here\n",
    "    \n",
    "    circuit.barrier()\n",
    "    \n",
    "    # Now as Bob knows the bases \n",
    "    if decoy_a_base[i] == 1:\n",
    "        circuit.h(a[0])\n",
    "        \n",
    "    circuit.measure(a, meas)\n",
    "    counts = run_circuit(circuit, 1)\n",
    "    \n",
    "    res = count_to_str(counts)\n",
    "    decoded_security.append((int)(res))\n",
    "    \n",
    "decoded_security = np.array(decoded_security)\n",
    "\n",
    "comparison = decoded_security == decoy_a_bit\n",
    "equal_arrays = comparison.all()\n",
    "\n",
    "if equal_arrays == True:\n",
    "    print(\"Security Checking for Alice to Bob Channel Passed !\")\n",
    "else:\n",
    "    print(\"Security Checking for Alice to Bob Channel Failed !\")\n",
    "    flag = 0"
   ]
  },
  {
   "cell_type": "code",
   "execution_count": 12,
   "metadata": {},
   "outputs": [
    {
     "name": "stdout",
     "output_type": "stream",
     "text": [
      "Security Checking for Bob to Charlie Channel Passed !\n"
     ]
    }
   ],
   "source": [
    "# Now the Security Checking for Bob To Charlie is conducted by Charlie\n",
    "\n",
    "decoded_security = []\n",
    "\n",
    "for i in range(num_decoy):\n",
    "    \n",
    "    b = QuantumRegister(1)\n",
    "    meas = ClassicalRegister(1)\n",
    "    circuit = QuantumCircuit(b, meas)\n",
    "    \n",
    "    if decoy_b_bit[i] == 1:\n",
    "        circuit.x(b[0])\n",
    "    if decoy_b_base[i] == 1:\n",
    "        circuit.h(b[0])\n",
    "    \n",
    "    circuit.barrier()\n",
    "    #Eaves Dropper possible actions here\n",
    "    circuit.barrier()\n",
    "    \n",
    "    # Now as Charlie knows the bases \n",
    "    if decoy_b_base[i] == 1:\n",
    "        circuit.h(b[0])\n",
    "        \n",
    "    circuit.measure(b, meas)\n",
    "    counts = run_circuit(circuit, 1)\n",
    "    \n",
    "    res = count_to_str(counts)\n",
    "    decoded_security.append((int)(res))\n",
    "    \n",
    "decoded_security = np.array(decoded_security)\n",
    "\n",
    "comparison = decoded_security == decoy_b_bit\n",
    "equal_arrays = comparison.all()\n",
    "\n",
    "if equal_arrays == True:\n",
    "    print(\"Security Checking for Bob to Charlie Channel Passed !\")\n",
    "else:\n",
    "    print(\"Security Checking for Bob to Charlie Channel Failed !\")\n",
    "    flag = 0"
   ]
  },
  {
   "cell_type": "code",
   "execution_count": 13,
   "metadata": {},
   "outputs": [
    {
     "name": "stdout",
     "output_type": "stream",
     "text": [
      "Security Checking for Charlie to Alice Channel Passed !\n"
     ]
    }
   ],
   "source": [
    "# Now the Security Checking for Charlie to Alice is conducted by Alice\n",
    "decoded_security = []\n",
    "for i in range(num_decoy):\n",
    "    c = QuantumRegister(1)\n",
    "    meas = ClassicalRegister(1)\n",
    "    circuit = QuantumCircuit(c, meas)\n",
    "    \n",
    "    if decoy_c_bit[i] == 1:\n",
    "        circuit.x(c[0])\n",
    "    if decoy_c_base[i] == 1:\n",
    "        circuit.h(c[0])\n",
    "    \n",
    "    circuit.barrier()\n",
    "    #Eaves Dropper possible actions here\n",
    "    circuit.barrier()\n",
    "    \n",
    "    # Now as Alice knows the bases \n",
    "    if decoy_c_base[i] == 1:\n",
    "        circuit.h(c[0])\n",
    "        \n",
    "    circuit.measure(c, meas)\n",
    "    counts = run_circuit(circuit, 1)\n",
    "    \n",
    "    res = count_to_str(counts)\n",
    "    decoded_security.append((int)(res))\n",
    "    \n",
    "decoded_security = np.array(decoded_security)\n",
    "\n",
    "comparison = decoded_security == decoy_c_bit\n",
    "equal_arrays = comparison.all()\n",
    "\n",
    "if equal_arrays == True:\n",
    "    print(\"Security Checking for Charlie to Alice Channel Passed !\")\n",
    "else:\n",
    "    print(\"Security Checking for Charlie to Alice Channel Failed !\")\n",
    "    flag = 0"
   ]
  },
  {
   "cell_type": "markdown",
   "metadata": {},
   "source": [
    "#### Xor Computation starts here "
   ]
  },
  {
   "cell_type": "code",
   "execution_count": null,
   "metadata": {},
   "outputs": [],
   "source": [
    "num_xor = len(one_idx)\n",
    "\n",
    "#Now as the channels were secure now the message could be decoded \n",
    "#Here bob is decoding the messages for himself\n",
    "\n",
    "for i in range(num_xor):\n",
    "    \n",
    "    a = QuantumRegister(1)\n",
    "    meas = ClassicalRegister(1)\n",
    "    circuit = QuantumCircuit(a, meas)\n",
    "    \n",
    "    "
   ]
  }
 ],
 "metadata": {
  "kernelspec": {
   "display_name": "Python 3",
   "language": "python",
   "name": "python3"
  },
  "language_info": {
   "codemirror_mode": {
    "name": "ipython",
    "version": 3
   },
   "file_extension": ".py",
   "mimetype": "text/x-python",
   "name": "python",
   "nbconvert_exporter": "python",
   "pygments_lexer": "ipython3",
   "version": "3.8.6"
  }
 },
 "nbformat": 4,
 "nbformat_minor": 4
}
